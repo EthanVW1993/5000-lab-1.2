{
  "cells": [
    {
      "cell_type": "markdown",
      "metadata": {},
      "source": [
        "# Lab 3 - DSAN 5000 - By Ethan Wotring\n",
        "\n",
        "This website demonstrates the use of Quarto and is created by Ethan Wotring to fulfill the Lab 3 assignment.\n",
        "\n",
        "## Background\n",
        "\n",
        "This section provides demonstration of h2\n",
        "\n",
        "### Objectives\n",
        "\n",
        "- Demonstrate Quarto’s integration with Jupyter\n",
        "- Provide an example of python code in a Jupter Notebook integrated with Quarto."
      ]
    },
    {
      "cell_type": "markdown",
      "metadata": {},
      "source": []
    },
    {
      "cell_type": "code",
      "execution_count": 1,
      "metadata": {},
      "outputs": [
        {
          "name": "stdout",
          "output_type": "stream",
          "text": [
            "3\n"
          ]
        }
      ],
      "source": [
        "v1 = 1\n",
        "v2 = 2\n",
        "\n",
        "v3 = v1 + v2\n",
        "\n",
        "print(v3)"
      ]
    },
    {
      "cell_type": "code",
      "execution_count": null,
      "metadata": {},
      "outputs": [],
      "source": []
    }
  ],
  "metadata": {
    "kernelspec": {
      "display_name": "base",
      "language": "python",
      "name": "python3"
    },
    "language_info": {
      "codemirror_mode": {
        "name": "ipython",
        "version": 3
      },
      "file_extension": ".py",
      "mimetype": "text/x-python",
      "name": "python",
      "nbconvert_exporter": "python",
      "pygments_lexer": "ipython3",
      "version": "3.13.5"
    }
  },
  "nbformat": 4,
  "nbformat_minor": 4
}
